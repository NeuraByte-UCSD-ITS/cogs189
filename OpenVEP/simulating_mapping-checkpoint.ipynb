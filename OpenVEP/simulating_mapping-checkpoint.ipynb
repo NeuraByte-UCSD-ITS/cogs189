{
 "cells": [
  {
   "cell_type": "markdown",
   "metadata": {},
   "source": [
    "## Simulating EEG output to cursor actions"
   ]
  },
  {
   "cell_type": "code",
   "execution_count": null,
   "metadata": {},
   "outputs": [
    {
     "name": "stdout",
     "output_type": "stream",
     "text": [
      "Collecting pyautogui\n",
      "  Downloading PyAutoGUI-0.9.54.tar.gz (61 kB)\n",
      "  Installing build dependencies: started\n",
      "  Installing build dependencies: finished with status 'done'\n",
      "  Getting requirements to build wheel: started\n",
      "  Getting requirements to build wheel: finished with status 'done'\n",
      "    Preparing wheel metadata: started\n",
      "    Preparing wheel metadata: finished with status 'done'\n",
      "Collecting pytweening>=1.0.4\n",
      "  Downloading pytweening-1.2.0.tar.gz (171 kB)\n",
      "Collecting pymsgbox\n",
      "  Downloading PyMsgBox-1.0.9.tar.gz (18 kB)\n",
      "  Installing build dependencies: started\n",
      "  Installing build dependencies: finished with status 'done'\n",
      "  Getting requirements to build wheel: started\n",
      "  Getting requirements to build wheel: finished with status 'done'\n",
      "    Preparing wheel metadata: started\n",
      "    Preparing wheel metadata: finished with status 'done'\n",
      "Collecting pygetwindow>=0.0.5\n",
      "  Downloading PyGetWindow-0.0.9.tar.gz (9.7 kB)\n",
      "Collecting mouseinfo\n",
      "  Downloading MouseInfo-0.1.3.tar.gz (10 kB)\n",
      "Collecting pyscreeze>=0.1.21\n",
      "  Downloading pyscreeze-1.0.1.tar.gz (27 kB)\n",
      "  Installing build dependencies: started\n",
      "  Installing build dependencies: finished with status 'done'\n",
      "  Getting requirements to build wheel: started\n",
      "  Getting requirements to build wheel: finished with status 'done'\n",
      "    Preparing wheel metadata: started\n",
      "    Preparing wheel metadata: finished with status 'done'\n",
      "Collecting pyrect\n",
      "  Downloading PyRect-0.2.0.tar.gz (17 kB)\n",
      "Collecting Pillow>=9.2.0\n",
      "  Downloading pillow-11.1.0-cp310-cp310-win_amd64.whl (2.6 MB)\n",
      "Collecting pyperclip\n",
      "  Downloading pyperclip-1.9.0.tar.gz (20 kB)\n",
      "Using legacy 'setup.py install' for pygetwindow, since package 'wheel' is not installed.\n",
      "Using legacy 'setup.py install' for pytweening, since package 'wheel' is not installed.\n",
      "Using legacy 'setup.py install' for mouseinfo, since package 'wheel' is not installed.\n",
      "Using legacy 'setup.py install' for pyperclip, since package 'wheel' is not installed.\n",
      "Using legacy 'setup.py install' for pyrect, since package 'wheel' is not installed.\n",
      "Building wheels for collected packages: pyautogui, pyscreeze, pymsgbox\n",
      "  Building wheel for pyautogui (PEP 517): started\n",
      "  Building wheel for pyautogui (PEP 517): finished with status 'done'\n",
      "  Created wheel for pyautogui: filename=pyautogui-0.9.54-py3-none-any.whl size=37656 sha256=9e53697213ad13222b2b7c6943cea592eca16cb6731592a76da1e29e0c9f0ef4\n",
      "  Stored in directory: c:\\users\\final\\appdata\\local\\pip\\cache\\wheels\\23\\a7\\1c\\5a51aaff3bbe110be4ddf766d429cc9d2fae7a72fc1b843e56\n",
      "  Building wheel for pyscreeze (PEP 517): started\n",
      "  Building wheel for pyscreeze (PEP 517): finished with status 'done'\n",
      "  Created wheel for pyscreeze: filename=pyscreeze-1.0.1-py3-none-any.whl size=14429 sha256=7ebd0ba3cb20d8c2f788a17b56269949657c07c0ad81db0a8efc924c6dbddbff\n",
      "  Stored in directory: c:\\users\\final\\appdata\\local\\pip\\cache\\wheels\\61\\bb\\e6\\638ce7843ec76f69155decf3a8f2c0ef0e6afc53fc9e09c7e8\n",
      "  Building wheel for pymsgbox (PEP 517): started\n",
      "  Building wheel for pymsgbox (PEP 517): finished with status 'done'\n",
      "  Created wheel for pymsgbox: filename=pymsgbox-1.0.9-py3-none-any.whl size=7469 sha256=774a7be413adc46643980d00a42e78c0b017b0d16f3b702af4d0c28b6c11c759\n",
      "  Stored in directory: c:\\users\\final\\appdata\\local\\pip\\cache\\wheels\\b9\\6a\\ba\\be2d7d78166ec8018c21d07241dffa54446c09652a267759ae\n",
      "Successfully built pyautogui pyscreeze pymsgbox\n",
      "Installing collected packages: pyrect, pyperclip, Pillow, pytweening, pyscreeze, pymsgbox, pygetwindow, mouseinfo, pyautogui\n",
      "    Running setup.py install for pyrect: started\n",
      "    Running setup.py install for pyrect: finished with status 'done'\n",
      "    Running setup.py install for pyperclip: started\n",
      "    Running setup.py install for pyperclip: finished with status 'done'\n",
      "    Running setup.py install for pytweening: started\n",
      "    Running setup.py install for pytweening: finished with status 'done'\n",
      "    Running setup.py install for pygetwindow: started\n",
      "    Running setup.py install for pygetwindow: finished with status 'done'\n",
      "    Running setup.py install for mouseinfo: started\n",
      "    Running setup.py install for mouseinfo: finished with status 'done'\n",
      "Successfully installed Pillow-11.1.0 mouseinfo-0.1.3 pyautogui-0.9.54 pygetwindow-0.0.9 pymsgbox-1.0.9 pyperclip-1.9.0 pyrect-0.2.0 pyscreeze-1.0.1 pytweening-1.2.0\n",
      "Note: you may need to restart the kernel to use updated packages.\n"
     ]
    },
    {
     "name": "stderr",
     "output_type": "stream",
     "text": [
      "WARNING: You are using pip version 21.2.3; however, version 25.0.1 is available.\n",
      "You should consider upgrading via the 'c:\\Users\\final\\AppData\\Local\\Programs\\Python\\Python310\\python.exe -m pip install --upgrade pip' command.\n"
     ]
    }
   ],
   "source": [
    "# run if pyautogui not installed\n",
    "#%pip install pyautogui"
   ]
  },
  {
   "cell_type": "code",
   "execution_count": 8,
   "metadata": {},
   "outputs": [],
   "source": [
    "\n",
    "import pyautogui\n",
    "import random\n",
    "import time\n",
    "import math\n",
    "import os\n",
    "import numpy as np"
   ]
  },
  {
   "cell_type": "code",
   "execution_count": 11,
   "metadata": {},
   "outputs": [],
   "source": [
    "folder_path = 'data/cyton8_alternating-vep_4-class_1.2s/sub-01/ses-01/'\n",
    "run_files = [f for f in os.listdir(folder_path) if f.startswith('eeg-trials_2-per-class_run-') and f.endswith('.npy')]\n",
    "reverted_eeg_trials_list = []\n",
    "\n",
    "for run_file in run_files:\n",
    "    # Extract the run number from the file name\n",
    "    run_number = int(run_file.split('-')[-1].split('.')[0])\n",
    "    \n",
    "    # Load the EEG trials for the current run\n",
    "    eeg_trials = np.load(os.path.join(folder_path, run_file))\n",
    "\n",
    "    # Apply the band-pass filter using mne.filter.filter_data\n",
    "    # eeg_trials = mne.filter.filter_data(eeg_trials, sfreq=sampling_rate, l_freq=1, h_freq=49, verbose=0, method='fir', fir_design='firwin', filter_length='auto')\n",
    "    # print(f\"Shape of eeg_trials after filtering for run {run_number}: {eeg_trials.shape}\")\n",
    "    \n",
    "    # Check the shape of eeg_trials\n",
    "    # print(f\"Shape of eeg_trials for run {run_number}: {eeg_trials.shape}\")\n",
    "    \n",
    "    # Create the original indices\n",
    "    original_indices = np.arange(eeg_trials.shape[0])\n",
    "    \n",
    "    # Shuffle the indices using the run number as the random seed\n",
    "    np.random.seed(run_number)\n",
    "    shuffled_indices = np.random.permutation(eeg_trials.shape[0])\n",
    "    \n",
    "    # Revert the shuffling\n",
    "    reverted_eeg_trials = np.empty_like(eeg_trials)\n",
    "    reverted_eeg_trials[shuffled_indices] = eeg_trials\n",
    "    \n",
    "    # Reshape the reverted EEG trials to (2, 4, 8, 350)\n",
    "    reverted_eeg_trials = reverted_eeg_trials.reshape(2, 4, 8, 350)\n",
    "    # reverted_eeg_trials = reverted_eeg_trials.reshape(2, 4, 8, 425)\n",
    "    \n",
    "    # Add the reverted EEG trials to the list\n",
    "    reverted_eeg_trials_list.append(reverted_eeg_trials)\n"
   ]
  },
  {
   "cell_type": "code",
   "execution_count": null,
   "metadata": {},
   "outputs": [],
   "source": []
  },
  {
   "cell_type": "code",
   "execution_count": 3,
   "metadata": {},
   "outputs": [],
   "source": [
    "# #1. Testing basic pyautogui functions \n",
    "# print(\"Screen size:\", pyautogui.size()) #printing size of primary screen (w & h)\n",
    "# print(\"Current mouse position:\", pyautogui.position()) #current mouse (x,y) coordinates/position\n",
    "\n",
    "# #randomly moving mouse & performing some actions\n",
    "# pyautogui.moveTo(100, 150) #moving mouse pointer to (100, 150) coordinates\n",
    "# pyautogui.click() #mouse clicking at current position\n",
    "# pyautogui.click(100, 120) #mouse clicking at (100, 120) coordinates\n",
    "# pyautogui.move(400, 0) #move mouse 400pixels to right of current position\n",
    "# pyautogui.doubleClick() #double-click at current mouse position\n",
    "# pyautogui.moveTo(500, 500, duration=2, tween=pyautogui.easeInOutQuad) #mouse pointer to (500, 500) over 2 seconds\n",
    "# pyautogui.write(\"Hello World\", interval=0.25) #type string \"Hello World\" w/ a 0.25 second interval between keystrokes\n",
    "# pyautogui.press('esc') #simulating esc keyboard press\n",
    "\n",
    "# #simulating text selection (hold down 'shift' key & press left arrow key 4 times)\n",
    "# with pyautogui.hold('shift'):\n",
    "#     pyautogui.press(['left', 'left', 'left', 'left'])\n",
    "# #simulating copy (press ctrl+c)\n",
    "# pyautogui.hotkey('ctrl', 'c')\n",
    "\n",
    "# #print modal alert-message to make sure functionalities are properly working\n",
    "# print(\"Alert: This is the message to display.\")"
   ]
  },
  {
   "cell_type": "code",
   "execution_count": 29,
   "metadata": {},
   "outputs": [
    {
     "name": "stdout",
     "output_type": "stream",
     "text": [
      "Simulated EEG command: move_right\n",
      "Moving right\n",
      "Simulated EEG command: move_right\n",
      "Moving right\n",
      "Simulated EEG command: move_right\n",
      "Moving right\n",
      "Simulated EEG command: move_right\n",
      "Moving right\n",
      "Simulated EEG command: move_right\n",
      "Moving right\n"
     ]
    }
   ],
   "source": [
    "#3. Testing Simulated EEG-to-Cursor Mapping\n",
    "#running loop to simulate receiving EEG commands and then execute corresponding cursor action\n",
    "for i in range(5):  #simulating 5 commands for testing\n",
    "    command = simulate_eeg_command()\n",
    "    print(f\"Simulated EEG command: {command}\")\n",
    "    execute_command(command)\n",
    "    time.sleep(1)  #1 second pauses between commands"
   ]
  },
  {
   "cell_type": "code",
   "execution_count": null,
   "metadata": {},
   "outputs": [],
   "source": []
  }
 ],
 "metadata": {
  "kernelspec": {
   "display_name": "Python 3",
   "language": "python",
   "name": "python3"
  },
  "language_info": {
   "codemirror_mode": {
    "name": "ipython",
    "version": 3
   },
   "file_extension": ".py",
   "mimetype": "text/x-python",
   "name": "python",
   "nbconvert_exporter": "python",
   "pygments_lexer": "ipython3",
   "version": "3.10.0"
  }
 },
 "nbformat": 4,
 "nbformat_minor": 2
}
